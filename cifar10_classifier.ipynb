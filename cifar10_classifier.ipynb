{
  "nbformat": 4,
  "nbformat_minor": 0,
  "metadata": {
    "colab": {
      "provenance": [],
      "gpuType": "T4"
    },
    "kernelspec": {
      "name": "python3",
      "display_name": "Python 3"
    },
    "language_info": {
      "name": "python"
    },
    "accelerator": "GPU"
  },
  "cells": [
    {
      "cell_type": "markdown",
      "source": [
        "# CIFAR-10 Image Classifier"
      ],
      "metadata": {
        "id": "CHkSSu9GpcmM"
      }
    },
    {
      "cell_type": "markdown",
      "source": [
        "## 1. Import Libraries"
      ],
      "metadata": {
        "id": "HBJAUB9ppgT0"
      }
    },
    {
      "cell_type": "code",
      "execution_count": 1,
      "metadata": {
        "id": "7iirkGIcTYbn"
      },
      "outputs": [],
      "source": [
        "import torch\n",
        "from torch import nn\n",
        "\n",
        "import torchvision\n",
        "from torchvision import datasets\n",
        "from torchvision import transforms\n",
        "from torchvision.transforms import ToTensor\n",
        "from torch.utils.data import DataLoader\n",
        "from torch.optim.lr_scheduler import OneCycleLR\n",
        "\n",
        "import matplotlib.pyplot as plt\n"
      ]
    },
    {
      "cell_type": "code",
      "source": [
        "# setup device agnostic code\n",
        "device = \"cuda\" if torch.cuda.is_available() else \"cpu\""
      ],
      "metadata": {
        "id": "QHN7DU-YJZgA"
      },
      "execution_count": 2,
      "outputs": []
    },
    {
      "cell_type": "markdown",
      "source": [
        "### Data Transforming"
      ],
      "metadata": {
        "id": "pK8tSu7vpmwL"
      }
    },
    {
      "cell_type": "code",
      "source": [
        "# Data Transforming as for CIFAR10 datasets\n",
        "transform_train = transforms.Compose([\n",
        "    transforms.RandomCrop(32, padding=4),\n",
        "    transforms.RandomHorizontalFlip(),\n",
        "    transforms.ToTensor(),\n",
        "    transforms.Normalize((0.4914, 0.4822, 0.4465), (0.2023, 0.1994, 0.2010))\n",
        "])\n",
        "\n",
        "transform_test = transforms.Compose([\n",
        "    transforms.ToTensor(),\n",
        "    transforms.Normalize((0.4914, 0.4822, 0.4465), (0.2023, 0.1994, 0.2010))\n",
        "])"
      ],
      "metadata": {
        "id": "g5gMOOrEW9fz"
      },
      "execution_count": 3,
      "outputs": []
    },
    {
      "cell_type": "markdown",
      "source": [
        "## 2. Load Dataset"
      ],
      "metadata": {
        "id": "3FCFAZChptbT"
      }
    },
    {
      "cell_type": "code",
      "source": [
        "# Load CIFAR-10 dataset\n",
        "trainset = torchvision.datasets.CIFAR10(\n",
        "    root='./data', train=True, download=True, transform=transform_train)\n",
        "trainloader = torch.utils.data.DataLoader(\n",
        "    trainset, batch_size=128, shuffle=True, num_workers=2)\n",
        "\n",
        "testset = torchvision.datasets.CIFAR10(\n",
        "    root='./data', train=False, download=True, transform=transform_test)\n",
        "testloader = torch.utils.data.DataLoader(\n",
        "    testset, batch_size=100, shuffle=False, num_workers=2)"
      ],
      "metadata": {
        "id": "TcxxaS_XWH7C",
        "colab": {
          "base_uri": "https://localhost:8080/"
        },
        "outputId": "8eaf6581-c1dd-4887-b52e-6aa48fb3f9ae"
      },
      "execution_count": 4,
      "outputs": [
        {
          "output_type": "stream",
          "name": "stderr",
          "text": [
            "100%|██████████| 170M/170M [00:03<00:00, 43.0MB/s]\n"
          ]
        }
      ]
    },
    {
      "cell_type": "markdown",
      "source": [
        "## 3. Model Architecture"
      ],
      "metadata": {
        "id": "O8DHpCkPWHyL"
      }
    },
    {
      "cell_type": "code",
      "source": [
        "class CustomModel(nn.Module):\n",
        "    def __init__(self, num_classes=10):\n",
        "        super(CustomModel, self).__init__()\n",
        "\n",
        "        # Stage 1: 32 filters\n",
        "        self.stage1 = nn.Sequential(\n",
        "            nn.Conv2d(3, 32, 3, padding=1),\n",
        "            nn.BatchNorm2d(32),\n",
        "            nn.ReLU(),\n",
        "            nn.Conv2d(32, 32, 3, padding=1),\n",
        "            nn.BatchNorm2d(32),\n",
        "            nn.ReLU(),\n",
        "            nn.MaxPool2d(2)\n",
        "        )\n",
        "\n",
        "        # Stage 2: 64 filters\n",
        "        self.stage2 = nn.Sequential(\n",
        "            nn.Conv2d(32, 64, 3, padding=1),\n",
        "            nn.BatchNorm2d(64),\n",
        "            nn.ReLU(),\n",
        "            nn.Conv2d(64, 64, 3, padding=1),\n",
        "            nn.BatchNorm2d(64),\n",
        "            nn.ReLU(),\n",
        "            nn.MaxPool2d(2)\n",
        "        )\n",
        "\n",
        "        # Stage 3: 128 filters\n",
        "        self.stage3 = nn.Sequential(\n",
        "            nn.Conv2d(64, 128, 3, padding=1),\n",
        "            nn.BatchNorm2d(128),\n",
        "            nn.ReLU(),\n",
        "            nn.Conv2d(128, 128, 3, padding=1),\n",
        "            nn.BatchNorm2d(128),\n",
        "            nn.ReLU(),\n",
        "            nn.MaxPool2d(2)\n",
        "        )\n",
        "\n",
        "        # Global Average Pooling + Classifier\n",
        "        self.gap = nn.AdaptiveAvgPool2d(1)\n",
        "        self.classifier = nn.Linear(128, num_classes)\n",
        "\n",
        "    def forward(self, x):\n",
        "        x = self.stage1(x)\n",
        "        x = self.stage2(x)\n",
        "        x = self.stage3(x)\n",
        "        x = self.gap(x)\n",
        "        x = x.view(x.size(0), -1)\n",
        "        x = self.classifier(x)\n",
        "        return x\n",
        "\n"
      ],
      "metadata": {
        "id": "hmblIS0rLrXo"
      },
      "execution_count": 5,
      "outputs": []
    },
    {
      "cell_type": "code",
      "source": [
        "# creating Model\n",
        "model = CustomModel().to(device)"
      ],
      "metadata": {
        "id": "V-pZlFa7LrUI"
      },
      "execution_count": 6,
      "outputs": []
    },
    {
      "cell_type": "code",
      "source": [
        "# train setup( loss function & )\n",
        "criterion = nn.CrossEntropyLoss()\n",
        "optimizer = torch.optim.AdamW(model.parameters(),lr = 0.0003 ,weight_decay= 0.0001 )\n",
        "\n",
        "# Learning rate sceduler\n",
        "scheduler = OneCycleLR(optimizer, max_lr= 0.001,\n",
        "                       epochs= 80,\n",
        "                       steps_per_epoch= len(trainloader))\n",
        "\n",
        "# accuracy function\n",
        "def accuracy_fn(y_true, y_pred):\n",
        "    correct = torch.eq(y_true, y_pred).sum().item()\n",
        "    acc = (correct / len(y_pred)) * 100\n",
        "    return acc"
      ],
      "metadata": {
        "id": "hCVnaZZkU9xb"
      },
      "execution_count": 7,
      "outputs": []
    },
    {
      "cell_type": "markdown",
      "source": [
        "## 4. Training"
      ],
      "metadata": {
        "id": "YVT9egFlp92U"
      }
    },
    {
      "cell_type": "code",
      "source": [
        "# Training function\n",
        "def train(epoch):\n",
        "    model.train()\n",
        "    running_loss = 0.0\n",
        "    correct = 0\n",
        "    total = 0\n",
        "\n",
        "    for batch_idx, (inputs, targets) in enumerate(trainloader):\n",
        "        inputs, targets = inputs.to(device), targets.to(device)\n",
        "\n",
        "        optimizer.zero_grad()\n",
        "        outputs = model(inputs)\n",
        "        loss = criterion(outputs, targets)\n",
        "        loss.backward()\n",
        "        optimizer.step()\n",
        "        scheduler.step()\n",
        "\n",
        "        running_loss += loss.item()\n",
        "        _, predicted = outputs.max(1)\n",
        "        total += targets.size(0)\n",
        "        correct += predicted.eq(targets).sum().item()\n",
        "\n",
        "    acc = 100. * correct / total\n",
        "    if epoch % 10 == 0:\n",
        "      print(f'Epoch: {epoch} | Loss: {running_loss/len(trainloader):.3f} | Acc: {acc:.3f}%')\n"
      ],
      "metadata": {
        "id": "IP7oHyZtWHur"
      },
      "execution_count": 8,
      "outputs": []
    },
    {
      "cell_type": "code",
      "source": [
        "# Test function\n",
        "def test(epoch):\n",
        "    model.eval()\n",
        "    correct = 0\n",
        "    total = 0\n",
        "\n",
        "    with torch.no_grad():\n",
        "        for inputs, targets in testloader:\n",
        "            inputs, targets = inputs.to(device), targets.to(device)\n",
        "            outputs = model(inputs)\n",
        "            _, predicted = outputs.max(1)\n",
        "            total += targets.size(0)\n",
        "            correct += predicted.eq(targets).sum().item()\n",
        "\n",
        "    acc = 100. * correct / total\n",
        "    if epoch % 10 == 0:\n",
        "      print(f'Test Accuracy: {acc:.3f}%')\n",
        "    return acc"
      ],
      "metadata": {
        "id": "hU3mUoMSWHrT"
      },
      "execution_count": 9,
      "outputs": []
    },
    {
      "cell_type": "code",
      "source": [
        "print(\"Starting training...\")\n",
        "best_acc = 0\n",
        "for epoch in range(1, 31):\n",
        "    train(epoch)\n",
        "    acc = test(epoch)\n",
        "\n",
        "    if acc > best_acc:\n",
        "        best_acc = acc\n",
        "        print(f'New best accuracy: {best_acc:.3f}% on {epoch} point')\n",
        "\n",
        "print(f'Best test accuracy: {best_acc:.3f}%')"
      ],
      "metadata": {
        "colab": {
          "base_uri": "https://localhost:8080/"
        },
        "id": "RhpBKQaePKAV",
        "outputId": "b43a88c2-782a-435c-94e5-d938e383ec0c"
      },
      "execution_count": 10,
      "outputs": [
        {
          "output_type": "stream",
          "name": "stdout",
          "text": [
            "Starting training...\n",
            "New best accuracy: 45.590% on 1 point\n",
            "New best accuracy: 54.370% on 2 point\n",
            "New best accuracy: 57.910% on 3 point\n",
            "New best accuracy: 59.500% on 4 point\n",
            "New best accuracy: 62.550% on 5 point\n",
            "New best accuracy: 66.610% on 7 point\n",
            "New best accuracy: 68.950% on 8 point\n",
            "Epoch: 10 | Loss: 0.732 | Acc: 74.512%\n",
            "Test Accuracy: 66.410%\n",
            "New best accuracy: 71.110% on 11 point\n",
            "New best accuracy: 72.540% on 12 point\n",
            "New best accuracy: 76.480% on 13 point\n",
            "New best accuracy: 77.310% on 15 point\n",
            "New best accuracy: 78.860% on 18 point\n",
            "Epoch: 20 | Loss: 0.460 | Acc: 84.150%\n",
            "Test Accuracy: 76.840%\n",
            "New best accuracy: 79.650% on 21 point\n",
            "New best accuracy: 82.060% on 22 point\n",
            "New best accuracy: 82.780% on 25 point\n",
            "New best accuracy: 84.400% on 26 point\n",
            "New best accuracy: 85.010% on 29 point\n",
            "Epoch: 30 | Loss: 0.325 | Acc: 88.808%\n",
            "Test Accuracy: 83.670%\n",
            "Best test accuracy: 85.010%\n"
          ]
        }
      ]
    },
    {
      "cell_type": "markdown",
      "source": [
        "## 5. Evaluation & Results"
      ],
      "metadata": {
        "id": "3jcyGq2gqCM0"
      }
    },
    {
      "cell_type": "code",
      "source": [
        "def evaluate_model(model, testloader, device):\n",
        "    \"\"\"\n",
        "    Evaluate the model on test dataset\n",
        "    \"\"\"\n",
        "    model.eval()\n",
        "    correct = 0\n",
        "    total = 0\n",
        "    all_predictions = []\n",
        "    all_targets = []\n",
        "\n",
        "    with torch.no_grad():\n",
        "        for inputs, targets in testloader:\n",
        "            inputs, targets = inputs.to(device), targets.to(device)\n",
        "            outputs = model(inputs)\n",
        "            _, predicted = outputs.max(1)\n",
        "            total += targets.size(0)\n",
        "            correct += predicted.eq(targets).sum().item()\n",
        "\n",
        "            # Store predictions and targets for detailed analysis\n",
        "            all_predictions.extend(predicted.cpu().numpy())\n",
        "            all_targets.extend(targets.cpu().numpy())\n",
        "\n",
        "    accuracy = 100. * correct / total\n",
        "    return accuracy, all_predictions, all_targets\n",
        "\n",
        "# Usage after training:\n",
        "print(\"Evaluating model...\")\n",
        "test_accuracy, predictions, targets = evaluate_model(model, testloader, device)\n",
        "print(f'Final Test Accuracy: {test_accuracy:.3f}%')\n",
        "\n",
        "# Additional evaluation: Class-wise accuracy\n",
        "def class_wise_accuracy(model, testloader, device, classes):\n",
        "    \"\"\"\n",
        "    Calculate accuracy for each class\n",
        "    \"\"\"\n",
        "    model.eval()\n",
        "    class_correct = list(0. for i in range(10))\n",
        "    class_total = list(0. for i in range(10))\n",
        "\n",
        "    with torch.no_grad():\n",
        "        for inputs, targets in testloader:\n",
        "            inputs, targets = inputs.to(device), targets.to(device)\n",
        "            outputs = model(inputs)\n",
        "            _, predicted = outputs.max(1)\n",
        "            c = (predicted == targets).squeeze()\n",
        "\n",
        "            for i in range(targets.size(0)):\n",
        "                label = targets[i]\n",
        "                class_correct[label] += c[i].item()\n",
        "                class_total[label] += 1\n",
        "\n",
        "    print(\"\\nClass-wise Accuracy:\")\n",
        "    for i in range(10):\n",
        "        if class_total[i] > 0:\n",
        "            print(f'{classes[i]:12s}: {100 * class_correct[i] / class_total[i]:.2f}%')\n",
        "\n",
        "# CIFAR-10 classes\n",
        "classes = ('plane', 'car', 'bird', 'cat', 'deer',\n",
        "           'dog', 'frog', 'horse', 'ship', 'truck')\n",
        "\n",
        "# Get class-wise accuracy\n",
        "class_wise_accuracy(model, testloader, device, classes)"
      ],
      "metadata": {
        "id": "XCQf6tVaTlcc",
        "colab": {
          "base_uri": "https://localhost:8080/"
        },
        "outputId": "67b90bcb-1a8d-4ca9-8222-02679b6e2343"
      },
      "execution_count": 11,
      "outputs": [
        {
          "output_type": "stream",
          "name": "stdout",
          "text": [
            "Evaluating model...\n",
            "Final Test Accuracy: 83.670%\n",
            "\n",
            "Class-wise Accuracy:\n",
            "plane       : 72.70%\n",
            "car         : 88.50%\n",
            "bird        : 76.60%\n",
            "cat         : 78.90%\n",
            "deer        : 92.10%\n",
            "dog         : 71.20%\n",
            "frog        : 83.00%\n",
            "horse       : 89.70%\n",
            "ship        : 93.20%\n",
            "truck       : 90.80%\n"
          ]
        }
      ]
    }
  ]
}